{
 "cells": [
  {
   "cell_type": "code",
   "execution_count": 8,
   "id": "9d95bbaa",
   "metadata": {},
   "outputs": [
    {
     "ename": "IndentationError",
     "evalue": "unindent does not match any outer indentation level (<tokenize>, line 42)",
     "output_type": "error",
     "traceback": [
      "\u001b[1;36m  File \u001b[1;32m\"<tokenize>\"\u001b[1;36m, line \u001b[1;32m42\u001b[0m\n\u001b[1;33m    def_histogram(self, image, mask):\u001b[0m\n\u001b[1;37m    ^\u001b[0m\n\u001b[1;31mIndentationError\u001b[0m\u001b[1;31m:\u001b[0m unindent does not match any outer indentation level\n"
     ]
    }
   ],
   "source": [
    "import numpy as np\n",
    "import cv2\n",
    "import imutils\n",
    "class ColorDescriptor:\n",
    "\tdef __init__(self, bins):\n",
    "\t\t# store the number of bins for the 3D histogram\n",
    "\t\tself.bins = bins\n",
    "\tdef describe(self, image):\n",
    "\t\t# convert the image to the HSV color space and initialize\n",
    "\t\t# the features used to quantify the image\n",
    "\t\timage = cv2.cvtColor(image, cv2.COLOR_BGR2HSV)\n",
    "\t\tfeatures = []\n",
    "\t\t# grab the dimensions and compute the center of the image\n",
    "\t\t(h, w) = image.shape[:2]\n",
    "\t\t(cX, cY) = (int(w * 0.5), int(h * 0.5))\n",
    "  # divide the image into four rectangles/segments (top-left,\n",
    "\t\t# top-right, bottom-right, bottom-left)\n",
    "\t\tsegments = [(0, cX, 0, cY), (cX, w, 0, cY), (cX, w, cY, h),\n",
    "\t\t\t(0, cX, cY, h)]\n",
    "\t\t# construct an elliptical mask representing the center of the\n",
    "\t\t# image\n",
    "\t\t(axesX, axesY) = (int(w * 0.75) // 2, int(h * 0.75) // 2)\n",
    "\t\tellipMask = np.zeros(image.shape[:2], dtype = \"uint8\")\n",
    "\t\tcv2.ellipse(ellipMask, (cX, cY), (axesX, axesY), 0, 0, 360, 255, -1)\n",
    "\t\t# loop over the segments\n",
    "\t\tfor (startX, endX, startY, endY) in segments:\n",
    "\t\t\t# construct a mask for each corner of the image, subtracting\n",
    "\t\t\t# the elliptical center from it\n",
    "\t\t\tcornerMask = np.zeros(image.shape[:2], dtype = \"uint8\")\n",
    "\t\t\tcv2.rectangle(cornerMask, (startX, startY), (endX, endY), 255, -1)\n",
    "\t\t\tcornerMask = cv2.subtract(cornerMask, ellipMask)\n",
    "\t\t\t# extract a color histogram from the image, then update the\n",
    "\t\t\t# feature vector\n",
    "\t\t\thist = self.histogram(image, cornerMask)\n",
    "\t\t\tfeatures.extend(hist)\n",
    "\t\t# extract a color histogram from the elliptical region and\n",
    "\t\t# update the feature vector\n",
    "\t\thist = self.histogram(image, ellipMask)\n",
    "\t\tfeatures.extend(hist)\n",
    "\t\t# return the feature vector\n",
    "\t\treturn features:\n",
    "    def_histogram(self, image, mask):\n",
    "\t\t# extract a 3D color histogram from the masked region of the\n",
    "\t\t# image, using the supplied number of bins per channel\n",
    "\t\thist = cv2.calcHist([image], [0, 1, 2], mask, self.bins,\n",
    "\t\t\t[0, 180, 0, 256, 0, 256])\n",
    "\t\t# normalize the histogram if we are using OpenCV 2.4\n",
    "\t\tif imutils.is_cv2():\n",
    "\t\t\thist = cv2.normalize(hist).flatten()\n",
    "\t\t# otherwise handle for OpenCV 3+\n",
    "\t\telse:\n",
    "\t\t\thist = cv2.normalize(hist, hist).flatten()\n",
    "\t\t# return the histogram\n",
    "\t\treturn hist"
   ]
  },
  {
   "cell_type": "code",
   "execution_count": null,
   "id": "b6c38132",
   "metadata": {},
   "outputs": [],
   "source": []
  },
  {
   "cell_type": "code",
   "execution_count": null,
   "id": "7ed623a4",
   "metadata": {},
   "outputs": [],
   "source": []
  }
 ],
 "metadata": {
  "kernelspec": {
   "display_name": "Python 3",
   "language": "python",
   "name": "python3"
  },
  "language_info": {
   "codemirror_mode": {
    "name": "ipython",
    "version": 3
   },
   "file_extension": ".py",
   "mimetype": "text/x-python",
   "name": "python",
   "nbconvert_exporter": "python",
   "pygments_lexer": "ipython3",
   "version": "3.8.8"
  }
 },
 "nbformat": 4,
 "nbformat_minor": 5
}
